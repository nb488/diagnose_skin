{
 "cells": [
  {
   "cell_type": "code",
   "execution_count": null,
   "metadata": {},
   "outputs": [],
   "source": [
    "import numpy as np\n",
    "import pandas as pd\n",
    "import matplotlib.pyplot as plt\n",
    "import tensorflow as tf"
   ]
  },
  {
   "cell_type": "code",
   "execution_count": null,
   "metadata": {},
   "outputs": [],
   "source": [
    "X_train, y_train = X[:800], y[:800]\n",
    "X_test, y_test = X[800:], y[800:]\n",
    "X_train.shape, X_test.shape"
   ]
  },
  {
   "cell_type": "code",
   "execution_count": null,
   "metadata": {},
   "outputs": [],
   "source": [
    "tf.random.set_seed(42)\n",
    "model_1 = tf.keras.Sequential([tf.keras.layers.Dense(1)])\n",
    "# model_1.compile(loss = tf.keras.losses.BinaryCrossentropy(),\n",
    "model_1.compile(loss = tf.keras.losses.CategoricalCrossentropy(), \n",
    "                optimizer = tf.keras.optimizers.SGD(), \n",
    "                metrics = ['recall'])\n",
    "model_1.fit(X_train, y_train, epochs = 100, verbose = 0)\n",
    "loss, accuracy = model_1.evaluate(X_test, y_test)\n",
    "print(f' Model loss on the test set: {loss}')\n",
    "print(f' Model accuracy on the test set: {100*accuracy}')"
   ]
  },
  {
   "cell_type": "code",
   "execution_count": null,
   "metadata": {},
   "outputs": [],
   "source": [
    "model_2 = tf.keras.Sequential([ tf.keras.layers.Dense(1),\n",
    "                               tf.keras.layers.Dense(1)\n",
    "])\n",
    "\n",
    "model_2.compile(loss = tf.keras.losses.CategoricalCrossentropy(),\n",
    "                optimizer = tf.keras.optimizers.SGD(),\n",
    "                metrics = ['recall'])\n",
    "\n",
    "model_2.fit(X_train, y_train, epochs = 100, verbose = 0)\n",
    "\n",
    "loss, accuracy = model_2.evaluate(X_test, y_test)\n",
    "print(f' Model loss on the test set: {loss}')\n",
    "print(f' Model accuracy on the test set: {100*accuracy}')"
   ]
  }
 ],
 "metadata": {
  "language_info": {
   "name": "python"
  }
 },
 "nbformat": 4,
 "nbformat_minor": 2
}
